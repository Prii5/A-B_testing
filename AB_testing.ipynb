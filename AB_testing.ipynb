{
 "cells": [
  {
   "cell_type": "markdown",
   "id": "009425ef",
   "metadata": {},
   "source": [
    "# Loading Packages "
   ]
  },
  {
   "cell_type": "code",
   "execution_count": 1,
   "id": "18450c3a",
   "metadata": {},
   "outputs": [],
   "source": [
    "import pandas as pd\n",
    "import numpy as np \n",
    "import matplotlib.pyplot as plt \n",
    "import seaborn as sns \n",
    "import scipy.stats as stats \n",
    "from scipy.stats import ttest_ind\n",
    "from scipy.stats import mannwhitneyu\n",
    "\n",
    "import warnings\n",
    "warnings.filterwarnings('ignore')"
   ]
  },
  {
   "cell_type": "markdown",
   "id": "73d8fb57",
   "metadata": {},
   "source": [
    "# Importing and Cleaning "
   ]
  },
  {
   "cell_type": "code",
   "execution_count": 2,
   "id": "ce0c3876",
   "metadata": {},
   "outputs": [],
   "source": [
    "control_df = pd.read_csv('control_group.csv', sep = ';')\n",
    "test_df = pd.read_csv('test_group.csv', sep = ';')"
   ]
  },
  {
   "cell_type": "code",
   "execution_count": 3,
   "id": "5d4c8fbb",
   "metadata": {},
   "outputs": [
    {
     "data": {
      "text/plain": [
       "(30, 10)"
      ]
     },
     "execution_count": 3,
     "metadata": {},
     "output_type": "execute_result"
    }
   ],
   "source": [
    "control_df.shape"
   ]
  },
  {
   "cell_type": "code",
   "execution_count": 4,
   "id": "657cad5c",
   "metadata": {},
   "outputs": [
    {
     "data": {
      "text/plain": [
       "(30, 10)"
      ]
     },
     "execution_count": 4,
     "metadata": {},
     "output_type": "execute_result"
    }
   ],
   "source": [
    "test_df.shape"
   ]
  },
  {
   "cell_type": "code",
   "execution_count": 5,
   "id": "1c7ce4cc",
   "metadata": {},
   "outputs": [],
   "source": [
    "## Renaming the column\n",
    "\n",
    "# for the control_df\n",
    "for i in control_df.columns:\n",
    "    if i.startswith('# of '):\n",
    "        control_df = control_df.rename(columns = {i : i.replace('# of ', '')})\n",
    "        \n",
    "        \n",
    "# for the test_df\n",
    "        \n",
    "for i in test_df.columns:\n",
    "    if i.startswith('# of '):\n",
    "        test_df = test_df.rename(columns = {i : i.replace('# of ', '')})\n",
    "        \n",
    "        "
   ]
  },
  {
   "cell_type": "code",
   "execution_count": 6,
   "id": "75ad77cf",
   "metadata": {},
   "outputs": [
    {
     "data": {
      "text/plain": [
       "Campaign Name     0\n",
       "Date              0\n",
       "Spend [USD]       0\n",
       "Impressions       1\n",
       "Reach             1\n",
       "Website Clicks    1\n",
       "Searches          1\n",
       "View Content      1\n",
       "Add to Cart       1\n",
       "Purchase          1\n",
       "dtype: int64"
      ]
     },
     "execution_count": 6,
     "metadata": {},
     "output_type": "execute_result"
    }
   ],
   "source": [
    "#Counting the null in the dataset \n",
    "\n",
    "control_df.isnull().sum()"
   ]
  },
  {
   "cell_type": "code",
   "execution_count": 7,
   "id": "090a6111",
   "metadata": {
    "scrolled": false
   },
   "outputs": [
    {
     "data": {
      "text/html": [
       "<div>\n",
       "<style scoped>\n",
       "    .dataframe tbody tr th:only-of-type {\n",
       "        vertical-align: middle;\n",
       "    }\n",
       "\n",
       "    .dataframe tbody tr th {\n",
       "        vertical-align: top;\n",
       "    }\n",
       "\n",
       "    .dataframe thead th {\n",
       "        text-align: right;\n",
       "    }\n",
       "</style>\n",
       "<table border=\"1\" class=\"dataframe\">\n",
       "  <thead>\n",
       "    <tr style=\"text-align: right;\">\n",
       "      <th></th>\n",
       "      <th>Campaign Name</th>\n",
       "      <th>Date</th>\n",
       "      <th>Spend [USD]</th>\n",
       "      <th>Impressions</th>\n",
       "      <th>Reach</th>\n",
       "      <th>Website Clicks</th>\n",
       "      <th>Searches</th>\n",
       "      <th>View Content</th>\n",
       "      <th>Add to Cart</th>\n",
       "      <th>Purchase</th>\n",
       "    </tr>\n",
       "  </thead>\n",
       "  <tbody>\n",
       "    <tr>\n",
       "      <th>4</th>\n",
       "      <td>Control Campaign</td>\n",
       "      <td>5.08.2019</td>\n",
       "      <td>1835</td>\n",
       "      <td>NaN</td>\n",
       "      <td>NaN</td>\n",
       "      <td>NaN</td>\n",
       "      <td>NaN</td>\n",
       "      <td>NaN</td>\n",
       "      <td>NaN</td>\n",
       "      <td>NaN</td>\n",
       "    </tr>\n",
       "  </tbody>\n",
       "</table>\n",
       "</div>"
      ],
      "text/plain": [
       "      Campaign Name       Date  Spend [USD]  Impressions  Reach  \\\n",
       "4  Control Campaign  5.08.2019         1835          NaN    NaN   \n",
       "\n",
       "   Website Clicks  Searches  View Content  Add to Cart  Purchase  \n",
       "4             NaN       NaN           NaN          NaN       NaN  "
      ]
     },
     "execution_count": 7,
     "metadata": {},
     "output_type": "execute_result"
    }
   ],
   "source": [
    "control_df[control_df.isnull().any(axis = 1)]\n",
    "\n"
   ]
  },
  {
   "cell_type": "code",
   "execution_count": 8,
   "id": "8da55ad3",
   "metadata": {},
   "outputs": [],
   "source": [
    "## since  we have most of the columns in the row  below as null, dropping row #4!\n",
    "\n",
    "control_df.drop(4, inplace = True)"
   ]
  },
  {
   "cell_type": "code",
   "execution_count": 9,
   "id": "f039b7ce",
   "metadata": {},
   "outputs": [
    {
     "data": {
      "text/plain": [
       "Campaign Name     0\n",
       "Date              0\n",
       "Spend [USD]       0\n",
       "Impressions       0\n",
       "Reach             0\n",
       "Website Clicks    0\n",
       "Searches          0\n",
       "View Content      0\n",
       "Add to Cart       0\n",
       "Purchase          0\n",
       "dtype: int64"
      ]
     },
     "execution_count": 9,
     "metadata": {},
     "output_type": "execute_result"
    }
   ],
   "source": [
    "## checking the null in test_df\n",
    "\n",
    "test_df.isnull().sum()"
   ]
  },
  {
   "cell_type": "code",
   "execution_count": 10,
   "id": "85a552c5",
   "metadata": {
    "scrolled": true
   },
   "outputs": [],
   "source": [
    "## combining the control and the test set\n",
    "\n",
    "df = pd.concat([control_df, test_df], axis = 0)"
   ]
  },
  {
   "cell_type": "code",
   "execution_count": 11,
   "id": "4225e309",
   "metadata": {},
   "outputs": [
    {
     "data": {
      "text/html": [
       "<div>\n",
       "<style scoped>\n",
       "    .dataframe tbody tr th:only-of-type {\n",
       "        vertical-align: middle;\n",
       "    }\n",
       "\n",
       "    .dataframe tbody tr th {\n",
       "        vertical-align: top;\n",
       "    }\n",
       "\n",
       "    .dataframe thead th {\n",
       "        text-align: right;\n",
       "    }\n",
       "</style>\n",
       "<table border=\"1\" class=\"dataframe\">\n",
       "  <thead>\n",
       "    <tr style=\"text-align: right;\">\n",
       "      <th></th>\n",
       "      <th>Campaign Name</th>\n",
       "      <th>Date</th>\n",
       "      <th>Spend [USD]</th>\n",
       "      <th>Impressions</th>\n",
       "      <th>Reach</th>\n",
       "      <th>Website Clicks</th>\n",
       "      <th>Searches</th>\n",
       "      <th>View Content</th>\n",
       "      <th>Add to Cart</th>\n",
       "      <th>Purchase</th>\n",
       "    </tr>\n",
       "  </thead>\n",
       "  <tbody>\n",
       "    <tr>\n",
       "      <th>0</th>\n",
       "      <td>Control Campaign</td>\n",
       "      <td>1.08.2019</td>\n",
       "      <td>2280</td>\n",
       "      <td>82702.0</td>\n",
       "      <td>56930.0</td>\n",
       "      <td>7016.0</td>\n",
       "      <td>2290.0</td>\n",
       "      <td>2159.0</td>\n",
       "      <td>1819.0</td>\n",
       "      <td>618.0</td>\n",
       "    </tr>\n",
       "    <tr>\n",
       "      <th>1</th>\n",
       "      <td>Control Campaign</td>\n",
       "      <td>2.08.2019</td>\n",
       "      <td>1757</td>\n",
       "      <td>121040.0</td>\n",
       "      <td>102513.0</td>\n",
       "      <td>8110.0</td>\n",
       "      <td>2033.0</td>\n",
       "      <td>1841.0</td>\n",
       "      <td>1219.0</td>\n",
       "      <td>511.0</td>\n",
       "    </tr>\n",
       "    <tr>\n",
       "      <th>2</th>\n",
       "      <td>Control Campaign</td>\n",
       "      <td>3.08.2019</td>\n",
       "      <td>2343</td>\n",
       "      <td>131711.0</td>\n",
       "      <td>110862.0</td>\n",
       "      <td>6508.0</td>\n",
       "      <td>1737.0</td>\n",
       "      <td>1549.0</td>\n",
       "      <td>1134.0</td>\n",
       "      <td>372.0</td>\n",
       "    </tr>\n",
       "    <tr>\n",
       "      <th>3</th>\n",
       "      <td>Control Campaign</td>\n",
       "      <td>4.08.2019</td>\n",
       "      <td>1940</td>\n",
       "      <td>72878.0</td>\n",
       "      <td>61235.0</td>\n",
       "      <td>3065.0</td>\n",
       "      <td>1042.0</td>\n",
       "      <td>982.0</td>\n",
       "      <td>1183.0</td>\n",
       "      <td>340.0</td>\n",
       "    </tr>\n",
       "    <tr>\n",
       "      <th>5</th>\n",
       "      <td>Control Campaign</td>\n",
       "      <td>6.08.2019</td>\n",
       "      <td>3083</td>\n",
       "      <td>109076.0</td>\n",
       "      <td>87998.0</td>\n",
       "      <td>4028.0</td>\n",
       "      <td>1709.0</td>\n",
       "      <td>1249.0</td>\n",
       "      <td>784.0</td>\n",
       "      <td>764.0</td>\n",
       "    </tr>\n",
       "  </tbody>\n",
       "</table>\n",
       "</div>"
      ],
      "text/plain": [
       "      Campaign Name       Date  Spend [USD]  Impressions     Reach  \\\n",
       "0  Control Campaign  1.08.2019         2280      82702.0   56930.0   \n",
       "1  Control Campaign  2.08.2019         1757     121040.0  102513.0   \n",
       "2  Control Campaign  3.08.2019         2343     131711.0  110862.0   \n",
       "3  Control Campaign  4.08.2019         1940      72878.0   61235.0   \n",
       "5  Control Campaign  6.08.2019         3083     109076.0   87998.0   \n",
       "\n",
       "   Website Clicks  Searches  View Content  Add to Cart  Purchase  \n",
       "0          7016.0    2290.0        2159.0       1819.0     618.0  \n",
       "1          8110.0    2033.0        1841.0       1219.0     511.0  \n",
       "2          6508.0    1737.0        1549.0       1134.0     372.0  \n",
       "3          3065.0    1042.0         982.0       1183.0     340.0  \n",
       "5          4028.0    1709.0        1249.0        784.0     764.0  "
      ]
     },
     "execution_count": 11,
     "metadata": {},
     "output_type": "execute_result"
    }
   ],
   "source": [
    "df.head()"
   ]
  },
  {
   "cell_type": "code",
   "execution_count": 12,
   "id": "9c3b18b0",
   "metadata": {
    "scrolled": true
   },
   "outputs": [
    {
     "data": {
      "text/plain": [
       "Campaign Name      object\n",
       "Date               object\n",
       "Spend [USD]         int64\n",
       "Impressions       float64\n",
       "Reach             float64\n",
       "Website Clicks    float64\n",
       "Searches          float64\n",
       "View Content      float64\n",
       "Add to Cart       float64\n",
       "Purchase          float64\n",
       "dtype: object"
      ]
     },
     "execution_count": 12,
     "metadata": {},
     "output_type": "execute_result"
    }
   ],
   "source": [
    "df.dtypes"
   ]
  },
  {
   "cell_type": "code",
   "execution_count": 13,
   "id": "8b2b9741",
   "metadata": {},
   "outputs": [
    {
     "data": {
      "text/plain": [
       "(59, 10)"
      ]
     },
     "execution_count": 13,
     "metadata": {},
     "output_type": "execute_result"
    }
   ],
   "source": [
    "df.shape"
   ]
  },
  {
   "cell_type": "code",
   "execution_count": 14,
   "id": "9c0fa4a5",
   "metadata": {},
   "outputs": [
    {
     "data": {
      "text/plain": [
       "Date\n",
       "8    59\n",
       "Name: count, dtype: int64"
      ]
     },
     "execution_count": 14,
     "metadata": {},
     "output_type": "execute_result"
    }
   ],
   "source": [
    "## updating the date column from object datatype to Datetime \n",
    "\n",
    "df['Date'] = pd.to_datetime(df['Date'], format = '%d.%m.%Y')\n",
    "\n",
    "df['Date'].dt.year.value_counts()\n",
    "df['Date'].dt.month.value_counts()"
   ]
  },
  {
   "cell_type": "code",
   "execution_count": 15,
   "id": "663bad40",
   "metadata": {},
   "outputs": [],
   "source": [
    "## Using the day only in the date column since the year and the month are all the same 2019-08\n",
    "df['Date'] = df['Date'].dt.day"
   ]
  },
  {
   "cell_type": "code",
   "execution_count": 16,
   "id": "1182e208",
   "metadata": {},
   "outputs": [],
   "source": [
    "## converting the float columns to the int \n",
    "\n",
    "df[df.select_dtypes(include = 'float').columns] = df[df.select_dtypes(include = 'float').columns].astype(int)\n"
   ]
  },
  {
   "cell_type": "code",
   "execution_count": 17,
   "id": "a9645c14",
   "metadata": {},
   "outputs": [
    {
     "data": {
      "text/plain": [
       "Campaign Name     object\n",
       "Date               int32\n",
       "Spend [USD]        int64\n",
       "Impressions        int64\n",
       "Reach              int64\n",
       "Website Clicks     int64\n",
       "Searches           int64\n",
       "View Content       int64\n",
       "Add to Cart        int64\n",
       "Purchase           int64\n",
       "dtype: object"
      ]
     },
     "execution_count": 17,
     "metadata": {},
     "output_type": "execute_result"
    }
   ],
   "source": [
    "df.dtypes"
   ]
  },
  {
   "cell_type": "code",
   "execution_count": 18,
   "id": "6a680e26",
   "metadata": {},
   "outputs": [],
   "source": [
    "## outlier analysis \n",
    "\n",
    "def outlier_check(df, col):\n",
    "    outlier_percent_col = {}\n",
    "    for i in col:\n",
    "        Q1 = df[i].quantile(0.25)\n",
    "        Q3 = df[i].quantile(0.75)\n",
    "        IQR = Q3- Q1\n",
    "\n",
    "        lower_bound = Q1 - 1.5 * IQR\n",
    "        upper_bound = Q3 + 1.5 * IQR\n",
    "\n",
    "        outlier = ((df[i]<lower_bound) | (df[i]>upper_bound)).sum()\n",
    "\n",
    "        outlier_per = (outlier/ len(df[i]))* 100\n",
    "        outlier_percent_col[i] = outlier_per\n",
    "\n",
    "    return outlier_percent_col\n"
   ]
  },
  {
   "cell_type": "code",
   "execution_count": 19,
   "id": "d159c6ee",
   "metadata": {
    "scrolled": true
   },
   "outputs": [
    {
     "data": {
      "text/plain": [
       "{'Date': 0.0,\n",
       " 'Spend [USD]': 0.0,\n",
       " 'Impressions': 0.0,\n",
       " 'Reach': 0.0,\n",
       " 'Website Clicks': 0.0,\n",
       " 'Searches': 1.694915254237288,\n",
       " 'View Content': 1.694915254237288,\n",
       " 'Add to Cart': 0.0,\n",
       " 'Purchase': 0.0}"
      ]
     },
     "execution_count": 19,
     "metadata": {},
     "output_type": "execute_result"
    }
   ],
   "source": [
    "col = (df.select_dtypes(include = 'number')).columns.tolist()\n",
    "outlier_check(df, col)"
   ]
  },
  {
   "cell_type": "code",
   "execution_count": 21,
   "id": "0266fa96",
   "metadata": {},
   "outputs": [],
   "source": [
    "## Removing the outliers \n",
    "\n",
    "def outlier_remove(df, col):\n",
    "    df_clean = df.copy()\n",
    "    for i in col:\n",
    "        Q1 = df_clean[i].quantile(0.25)\n",
    "        Q3 = df_clean[i].quantile(0.75)\n",
    "        IQR = Q3 - Q1\n",
    "\n",
    "        lower_bound = Q1 - 1.5 * IQR\n",
    "        upper_bound = Q3 + 1.5 * IQR\n",
    "\n",
    "        df_clean = df_clean[(df_clean[i] >= lower_bound) & (df_clean[i] <= upper_bound)]\n",
    "\n",
    "    return df_clean\n"
   ]
  },
  {
   "cell_type": "code",
   "execution_count": 22,
   "id": "666b084b",
   "metadata": {},
   "outputs": [],
   "source": [
    "col = (df.select_dtypes(include = 'number')).columns.tolist()\n",
    "final_df = outlier_remove(df, col)"
   ]
  },
  {
   "cell_type": "code",
   "execution_count": 23,
   "id": "faf792cb",
   "metadata": {},
   "outputs": [
    {
     "data": {
      "text/plain": [
       "(58, 10)"
      ]
     },
     "execution_count": 23,
     "metadata": {},
     "output_type": "execute_result"
    }
   ],
   "source": [
    "final_df.shape"
   ]
  },
  {
   "cell_type": "code",
   "execution_count": 24,
   "id": "086fc86b",
   "metadata": {},
   "outputs": [
    {
     "data": {
      "text/html": [
       "<div>\n",
       "<style scoped>\n",
       "    .dataframe tbody tr th:only-of-type {\n",
       "        vertical-align: middle;\n",
       "    }\n",
       "\n",
       "    .dataframe tbody tr th {\n",
       "        vertical-align: top;\n",
       "    }\n",
       "\n",
       "    .dataframe thead th {\n",
       "        text-align: right;\n",
       "    }\n",
       "</style>\n",
       "<table border=\"1\" class=\"dataframe\">\n",
       "  <thead>\n",
       "    <tr style=\"text-align: right;\">\n",
       "      <th></th>\n",
       "      <th>Date</th>\n",
       "      <th>Spend [USD]</th>\n",
       "      <th>Impressions</th>\n",
       "      <th>Reach</th>\n",
       "      <th>Website Clicks</th>\n",
       "      <th>Searches</th>\n",
       "      <th>View Content</th>\n",
       "      <th>Add to Cart</th>\n",
       "      <th>Purchase</th>\n",
       "    </tr>\n",
       "  </thead>\n",
       "  <tbody>\n",
       "    <tr>\n",
       "      <th>count</th>\n",
       "      <td>58.000000</td>\n",
       "      <td>58.000000</td>\n",
       "      <td>58.000000</td>\n",
       "      <td>58.000000</td>\n",
       "      <td>58.000000</td>\n",
       "      <td>58.000000</td>\n",
       "      <td>58.000000</td>\n",
       "      <td>58.000000</td>\n",
       "      <td>58.000000</td>\n",
       "    </tr>\n",
       "    <tr>\n",
       "      <th>mean</th>\n",
       "      <td>15.448276</td>\n",
       "      <td>2436.810345</td>\n",
       "      <td>91771.517241</td>\n",
       "      <td>70811.344828</td>\n",
       "      <td>5640.448276</td>\n",
       "      <td>2277.517241</td>\n",
       "      <td>1860.189655</td>\n",
       "      <td>1080.344828</td>\n",
       "      <td>525.241379</td>\n",
       "    </tr>\n",
       "    <tr>\n",
       "      <th>std</th>\n",
       "      <td>8.586347</td>\n",
       "      <td>379.559045</td>\n",
       "      <td>32748.596297</td>\n",
       "      <td>31291.458218</td>\n",
       "      <td>1739.721819</td>\n",
       "      <td>581.093381</td>\n",
       "      <td>620.208665</td>\n",
       "      <td>430.680268</td>\n",
       "      <td>197.100590</td>\n",
       "    </tr>\n",
       "    <tr>\n",
       "      <th>min</th>\n",
       "      <td>1.000000</td>\n",
       "      <td>1757.000000</td>\n",
       "      <td>22521.000000</td>\n",
       "      <td>10598.000000</td>\n",
       "      <td>2277.000000</td>\n",
       "      <td>1001.000000</td>\n",
       "      <td>848.000000</td>\n",
       "      <td>278.000000</td>\n",
       "      <td>222.000000</td>\n",
       "    </tr>\n",
       "    <tr>\n",
       "      <th>25%</th>\n",
       "      <td>8.250000</td>\n",
       "      <td>2095.750000</td>\n",
       "      <td>68148.750000</td>\n",
       "      <td>43224.500000</td>\n",
       "      <td>4224.250000</td>\n",
       "      <td>1954.250000</td>\n",
       "      <td>1249.000000</td>\n",
       "      <td>833.750000</td>\n",
       "      <td>346.500000</td>\n",
       "    </tr>\n",
       "    <tr>\n",
       "      <th>50%</th>\n",
       "      <td>15.500000</td>\n",
       "      <td>2439.500000</td>\n",
       "      <td>98281.000000</td>\n",
       "      <td>77422.000000</td>\n",
       "      <td>5581.000000</td>\n",
       "      <td>2374.500000</td>\n",
       "      <td>1934.500000</td>\n",
       "      <td>1067.000000</td>\n",
       "      <td>506.000000</td>\n",
       "    </tr>\n",
       "    <tr>\n",
       "      <th>75%</th>\n",
       "      <td>22.750000</td>\n",
       "      <td>2758.500000</td>\n",
       "      <td>117469.500000</td>\n",
       "      <td>95666.750000</td>\n",
       "      <td>7177.000000</td>\n",
       "      <td>2727.500000</td>\n",
       "      <td>2407.500000</td>\n",
       "      <td>1371.250000</td>\n",
       "      <td>701.000000</td>\n",
       "    </tr>\n",
       "    <tr>\n",
       "      <th>max</th>\n",
       "      <td>30.000000</td>\n",
       "      <td>3112.000000</td>\n",
       "      <td>145248.000000</td>\n",
       "      <td>127852.000000</td>\n",
       "      <td>8264.000000</td>\n",
       "      <td>3549.000000</td>\n",
       "      <td>3249.000000</td>\n",
       "      <td>1913.000000</td>\n",
       "      <td>890.000000</td>\n",
       "    </tr>\n",
       "  </tbody>\n",
       "</table>\n",
       "</div>"
      ],
      "text/plain": [
       "            Date  Spend [USD]    Impressions          Reach  Website Clicks  \\\n",
       "count  58.000000    58.000000      58.000000      58.000000       58.000000   \n",
       "mean   15.448276  2436.810345   91771.517241   70811.344828     5640.448276   \n",
       "std     8.586347   379.559045   32748.596297   31291.458218     1739.721819   \n",
       "min     1.000000  1757.000000   22521.000000   10598.000000     2277.000000   \n",
       "25%     8.250000  2095.750000   68148.750000   43224.500000     4224.250000   \n",
       "50%    15.500000  2439.500000   98281.000000   77422.000000     5581.000000   \n",
       "75%    22.750000  2758.500000  117469.500000   95666.750000     7177.000000   \n",
       "max    30.000000  3112.000000  145248.000000  127852.000000     8264.000000   \n",
       "\n",
       "          Searches  View Content  Add to Cart    Purchase  \n",
       "count    58.000000     58.000000    58.000000   58.000000  \n",
       "mean   2277.517241   1860.189655  1080.344828  525.241379  \n",
       "std     581.093381    620.208665   430.680268  197.100590  \n",
       "min    1001.000000    848.000000   278.000000  222.000000  \n",
       "25%    1954.250000   1249.000000   833.750000  346.500000  \n",
       "50%    2374.500000   1934.500000  1067.000000  506.000000  \n",
       "75%    2727.500000   2407.500000  1371.250000  701.000000  \n",
       "max    3549.000000   3249.000000  1913.000000  890.000000  "
      ]
     },
     "execution_count": 24,
     "metadata": {},
     "output_type": "execute_result"
    }
   ],
   "source": [
    "## summary statistics \n",
    "\n",
    "final_df.describe()"
   ]
  },
  {
   "cell_type": "code",
   "execution_count": 25,
   "id": "35da1a95",
   "metadata": {
    "scrolled": false
   },
   "outputs": [
    {
     "data": {
      "text/html": [
       "<div>\n",
       "<style scoped>\n",
       "    .dataframe tbody tr th:only-of-type {\n",
       "        vertical-align: middle;\n",
       "    }\n",
       "\n",
       "    .dataframe tbody tr th {\n",
       "        vertical-align: top;\n",
       "    }\n",
       "\n",
       "    .dataframe thead tr th {\n",
       "        text-align: left;\n",
       "    }\n",
       "\n",
       "    .dataframe thead tr:last-of-type th {\n",
       "        text-align: right;\n",
       "    }\n",
       "</style>\n",
       "<table border=\"1\" class=\"dataframe\">\n",
       "  <thead>\n",
       "    <tr>\n",
       "      <th></th>\n",
       "      <th colspan=\"8\" halign=\"left\">Date</th>\n",
       "      <th colspan=\"2\" halign=\"left\">Spend [USD]</th>\n",
       "      <th>...</th>\n",
       "      <th colspan=\"2\" halign=\"left\">Add to Cart</th>\n",
       "      <th colspan=\"8\" halign=\"left\">Purchase</th>\n",
       "    </tr>\n",
       "    <tr>\n",
       "      <th></th>\n",
       "      <th>count</th>\n",
       "      <th>mean</th>\n",
       "      <th>std</th>\n",
       "      <th>min</th>\n",
       "      <th>25%</th>\n",
       "      <th>50%</th>\n",
       "      <th>75%</th>\n",
       "      <th>max</th>\n",
       "      <th>count</th>\n",
       "      <th>mean</th>\n",
       "      <th>...</th>\n",
       "      <th>75%</th>\n",
       "      <th>max</th>\n",
       "      <th>count</th>\n",
       "      <th>mean</th>\n",
       "      <th>std</th>\n",
       "      <th>min</th>\n",
       "      <th>25%</th>\n",
       "      <th>50%</th>\n",
       "      <th>75%</th>\n",
       "      <th>max</th>\n",
       "    </tr>\n",
       "    <tr>\n",
       "      <th>Campaign Name</th>\n",
       "      <th></th>\n",
       "      <th></th>\n",
       "      <th></th>\n",
       "      <th></th>\n",
       "      <th></th>\n",
       "      <th></th>\n",
       "      <th></th>\n",
       "      <th></th>\n",
       "      <th></th>\n",
       "      <th></th>\n",
       "      <th></th>\n",
       "      <th></th>\n",
       "      <th></th>\n",
       "      <th></th>\n",
       "      <th></th>\n",
       "      <th></th>\n",
       "      <th></th>\n",
       "      <th></th>\n",
       "      <th></th>\n",
       "      <th></th>\n",
       "      <th></th>\n",
       "    </tr>\n",
       "  </thead>\n",
       "  <tbody>\n",
       "    <tr>\n",
       "      <th>Control Campaign</th>\n",
       "      <td>28.0</td>\n",
       "      <td>15.392857</td>\n",
       "      <td>8.508555</td>\n",
       "      <td>1.0</td>\n",
       "      <td>8.75</td>\n",
       "      <td>15.5</td>\n",
       "      <td>22.25</td>\n",
       "      <td>30.0</td>\n",
       "      <td>28.0</td>\n",
       "      <td>2301.535714</td>\n",
       "      <td>...</td>\n",
       "      <td>1654.5</td>\n",
       "      <td>1913.0</td>\n",
       "      <td>28.0</td>\n",
       "      <td>529.535714</td>\n",
       "      <td>184.760201</td>\n",
       "      <td>222.0</td>\n",
       "      <td>382.5</td>\n",
       "      <td>506.0</td>\n",
       "      <td>686.0</td>\n",
       "      <td>800.0</td>\n",
       "    </tr>\n",
       "    <tr>\n",
       "      <th>Test Campaign</th>\n",
       "      <td>30.0</td>\n",
       "      <td>15.500000</td>\n",
       "      <td>8.803408</td>\n",
       "      <td>1.0</td>\n",
       "      <td>8.25</td>\n",
       "      <td>15.5</td>\n",
       "      <td>22.75</td>\n",
       "      <td>30.0</td>\n",
       "      <td>30.0</td>\n",
       "      <td>2563.066667</td>\n",
       "      <td>...</td>\n",
       "      <td>1148.5</td>\n",
       "      <td>1391.0</td>\n",
       "      <td>30.0</td>\n",
       "      <td>521.233333</td>\n",
       "      <td>211.047745</td>\n",
       "      <td>238.0</td>\n",
       "      <td>298.0</td>\n",
       "      <td>500.0</td>\n",
       "      <td>701.0</td>\n",
       "      <td>890.0</td>\n",
       "    </tr>\n",
       "  </tbody>\n",
       "</table>\n",
       "<p>2 rows × 72 columns</p>\n",
       "</div>"
      ],
      "text/plain": [
       "                  Date                                                     \\\n",
       "                 count       mean       std  min   25%   50%    75%   max   \n",
       "Campaign Name                                                               \n",
       "Control Campaign  28.0  15.392857  8.508555  1.0  8.75  15.5  22.25  30.0   \n",
       "Test Campaign     30.0  15.500000  8.803408  1.0  8.25  15.5  22.75  30.0   \n",
       "\n",
       "                 Spend [USD]               ... Add to Cart         Purchase  \\\n",
       "                       count         mean  ...         75%     max    count   \n",
       "Campaign Name                              ...                                \n",
       "Control Campaign        28.0  2301.535714  ...      1654.5  1913.0     28.0   \n",
       "Test Campaign           30.0  2563.066667  ...      1148.5  1391.0     30.0   \n",
       "\n",
       "                                                                             \n",
       "                        mean         std    min    25%    50%    75%    max  \n",
       "Campaign Name                                                                \n",
       "Control Campaign  529.535714  184.760201  222.0  382.5  506.0  686.0  800.0  \n",
       "Test Campaign     521.233333  211.047745  238.0  298.0  500.0  701.0  890.0  \n",
       "\n",
       "[2 rows x 72 columns]"
      ]
     },
     "execution_count": 25,
     "metadata": {},
     "output_type": "execute_result"
    }
   ],
   "source": [
    "final_df.groupby('Campaign Name').describe()"
   ]
  },
  {
   "cell_type": "markdown",
   "id": "5f9e6e8e",
   "metadata": {},
   "source": [
    "# Visualization"
   ]
  },
  {
   "cell_type": "code",
   "execution_count": 26,
   "id": "2a0ac0ea",
   "metadata": {},
   "outputs": [
    {
     "data": {
      "image/png": "[encoded data removed]",
      "text/plain": [
       "<Figure size 720x720 with 8 Axes>"
      ]
     },
     "metadata": {
      "needs_background": "light"
     },
     "output_type": "display_data"
    }
   ],
   "source": [
    "# Box plot for all the numeric columns \n",
    "num_cols = df.select_dtypes(include=[\"int\"]).columns.to_list()\n",
    "num_cols.remove(\"Date\")\n",
    "\n",
    "\n",
    "fig, axes = plt.subplots(2, 4, figsize = (10,10))\n",
    "axes = axes.flatten()\n",
    "for ix, i in enumerate(num_cols):\n",
    "    sns.boxplot(data = final_df, x ='Campaign Name', y= i, ax = axes[ix], palette = 'Set2')\n",
    "    axes[ix].tick_params(axis = 'x', rotation = 45)\n",
    "    axes[ix].set_title(i)\n",
    "    axes[ix].set_ylabel(' ')\n",
    "\n",
    "plt.tight_layout()\n",
    "plt.show()\n",
    "    \n",
    "        \n",
    "    \n",
    "    "
   ]
  },
  {
   "cell_type": "code",
   "execution_count": 27,
   "id": "66b0a3fd",
   "metadata": {},
   "outputs": [
    {
     "data": {
      "image/png": "[encoded data removed]",
      "text/plain": [
       "<Figure size 864x576 with 2 Axes>"
      ]
     },
     "metadata": {
      "needs_background": "light"
     },
     "output_type": "display_data"
    }
   ],
   "source": [
    "## creating a heatmap\n",
    "plt.figure(figsize=(12, 8)) \n",
    "sns.heatmap(\n",
    "    final_df[num_cols].corr(),\n",
    "    annot=True,\n",
    "    fmt=\".2f\",                 \n",
    "    cmap='coolwarm',         \n",
    "    linewidths=0.5,         \n",
    "    linecolor='gray',        \n",
    "    cbar_kws={'shrink': 0.8, 'label': 'Correlation'}, \n",
    "    square=True               \n",
    ")\n",
    "plt.title('Correlation Heatmap of Numerical Features', fontsize=16, pad=20)\n",
    "plt.xticks(rotation=45, ha='right')  \n",
    "plt.yticks(rotation=0)              \n",
    "plt.tight_layout()\n",
    "plt.show()"
   ]
  },
  {
   "cell_type": "code",
   "execution_count": 29,
   "id": "a1a5a294",
   "metadata": {},
   "outputs": [
    {
     "data": {
      "image/png": "[encoded data removed]",
      "text/plain": [
       "<Figure size 1080x864 with 8 Axes>"
      ]
     },
     "metadata": {
      "needs_background": "light"
     },
     "output_type": "display_data"
    }
   ],
   "source": [
    "## Checking the normality assumption \n",
    "\n",
    "## QQ plot \n",
    "\n",
    "fig, axes = plt.subplots(4, 3, figsize=(15, 12)) \n",
    "axes = axes.flatten() \n",
    "\n",
    "for idx, col in enumerate(num_cols):\n",
    "    stats.probplot(df[col], dist=\"norm\", plot=axes[idx])\n",
    "    axes[idx].set_title(f'Q-Q Plot: {col}', fontsize=10)\n",
    "\n",
    "for i in range(len(num_cols), len(axes)):\n",
    "    fig.delaxes(axes[i])\n",
    "\n",
    "plt.tight_layout()\n",
    "plt.show()\n"
   ]
  },
  {
   "cell_type": "markdown",
   "id": "45b34e6f",
   "metadata": {},
   "source": [
    "# Metrics/Feature Engineering "
   ]
  },
  {
   "cell_type": "code",
   "execution_count": 90,
   "id": "59a40ebc",
   "metadata": {},
   "outputs": [],
   "source": [
    "## 1.Conversion rate - How many people who visited the website ended up buying?\n",
    "\n",
    "final_df['Conversion Rate'] = (final_df['Purchase']/final_df['Website Clicks']*100).round(2)"
   ]
  },
  {
   "cell_type": "code",
   "execution_count": 99,
   "id": "188a6ce4",
   "metadata": {},
   "outputs": [],
   "source": [
    "## 2. Click-Through Rate - the percentage of ad impressions that resulted in a user clicking the ad for more information.\n",
    "final_df['Click through rate'] =(final_df['Website Clicks']/final_df['Impressions']*100).round(2)\n",
    "                                 \n"
   ]
  },
  {
   "cell_type": "code",
   "execution_count": 100,
   "id": "e44108bd",
   "metadata": {},
   "outputs": [],
   "source": [
    "#3. Cost per click - measures how much an advertiser pays each time a user clicks on their ad\n",
    "\n",
    "final_df['Cost per click'] = (final_df['Spend [USD]']/final_df['Website Clicks']).round(2)\n",
    "                                 \n"
   ]
  },
  {
   "cell_type": "code",
   "execution_count": 101,
   "id": "0c783be7",
   "metadata": {},
   "outputs": [],
   "source": [
    "#4. Cost per conversion -  how much it costs to acquire one customer or completed action, such as a purchase or sign-up.\n",
    "\n",
    "final_df['Cost per conversion'] =(final_df['Spend [USD]']/final_df['Purchase']).round(2)\n",
    "                                 \n"
   ]
  },
  {
   "cell_type": "code",
   "execution_count": 103,
   "id": "3ed640b0",
   "metadata": {},
   "outputs": [
    {
     "data": {
      "text/html": [
       "<div>\n",
       "<style scoped>\n",
       "    .dataframe tbody tr th:only-of-type {\n",
       "        vertical-align: middle;\n",
       "    }\n",
       "\n",
       "    .dataframe tbody tr th {\n",
       "        vertical-align: top;\n",
       "    }\n",
       "\n",
       "    .dataframe thead th {\n",
       "        text-align: right;\n",
       "    }\n",
       "</style>\n",
       "<table border=\"1\" class=\"dataframe\">\n",
       "  <thead>\n",
       "    <tr style=\"text-align: right;\">\n",
       "      <th></th>\n",
       "      <th>Campaign Name</th>\n",
       "      <th>Date</th>\n",
       "      <th>Spend [USD]</th>\n",
       "      <th>Impressions</th>\n",
       "      <th>Reach</th>\n",
       "      <th>Website Clicks</th>\n",
       "      <th>Searches</th>\n",
       "      <th>View Content</th>\n",
       "      <th>Add to Cart</th>\n",
       "      <th>Purchase</th>\n",
       "      <th>Conversion Rate</th>\n",
       "      <th>Click through rate</th>\n",
       "      <th>Cost per click</th>\n",
       "      <th>Cost per conversion</th>\n",
       "    </tr>\n",
       "  </thead>\n",
       "  <tbody>\n",
       "    <tr>\n",
       "      <th>0</th>\n",
       "      <td>Control Campaign</td>\n",
       "      <td>1</td>\n",
       "      <td>2280</td>\n",
       "      <td>82702</td>\n",
       "      <td>56930</td>\n",
       "      <td>7016</td>\n",
       "      <td>2290</td>\n",
       "      <td>2159</td>\n",
       "      <td>1819</td>\n",
       "      <td>618</td>\n",
       "      <td>8.81</td>\n",
       "      <td>8.48</td>\n",
       "      <td>0.32</td>\n",
       "      <td>3.69</td>\n",
       "    </tr>\n",
       "    <tr>\n",
       "      <th>1</th>\n",
       "      <td>Control Campaign</td>\n",
       "      <td>2</td>\n",
       "      <td>1757</td>\n",
       "      <td>121040</td>\n",
       "      <td>102513</td>\n",
       "      <td>8110</td>\n",
       "      <td>2033</td>\n",
       "      <td>1841</td>\n",
       "      <td>1219</td>\n",
       "      <td>511</td>\n",
       "      <td>6.30</td>\n",
       "      <td>6.70</td>\n",
       "      <td>0.22</td>\n",
       "      <td>3.44</td>\n",
       "    </tr>\n",
       "    <tr>\n",
       "      <th>2</th>\n",
       "      <td>Control Campaign</td>\n",
       "      <td>3</td>\n",
       "      <td>2343</td>\n",
       "      <td>131711</td>\n",
       "      <td>110862</td>\n",
       "      <td>6508</td>\n",
       "      <td>1737</td>\n",
       "      <td>1549</td>\n",
       "      <td>1134</td>\n",
       "      <td>372</td>\n",
       "      <td>5.72</td>\n",
       "      <td>4.94</td>\n",
       "      <td>0.36</td>\n",
       "      <td>6.30</td>\n",
       "    </tr>\n",
       "    <tr>\n",
       "      <th>3</th>\n",
       "      <td>Control Campaign</td>\n",
       "      <td>4</td>\n",
       "      <td>1940</td>\n",
       "      <td>72878</td>\n",
       "      <td>61235</td>\n",
       "      <td>3065</td>\n",
       "      <td>1042</td>\n",
       "      <td>982</td>\n",
       "      <td>1183</td>\n",
       "      <td>340</td>\n",
       "      <td>11.09</td>\n",
       "      <td>4.21</td>\n",
       "      <td>0.63</td>\n",
       "      <td>5.71</td>\n",
       "    </tr>\n",
       "    <tr>\n",
       "      <th>5</th>\n",
       "      <td>Control Campaign</td>\n",
       "      <td>6</td>\n",
       "      <td>3083</td>\n",
       "      <td>109076</td>\n",
       "      <td>87998</td>\n",
       "      <td>4028</td>\n",
       "      <td>1709</td>\n",
       "      <td>1249</td>\n",
       "      <td>784</td>\n",
       "      <td>764</td>\n",
       "      <td>18.97</td>\n",
       "      <td>3.69</td>\n",
       "      <td>0.77</td>\n",
       "      <td>4.04</td>\n",
       "    </tr>\n",
       "  </tbody>\n",
       "</table>\n",
       "</div>"
      ],
      "text/plain": [
       "      Campaign Name  Date  Spend [USD]  Impressions   Reach  Website Clicks  \\\n",
       "0  Control Campaign     1         2280        82702   56930            7016   \n",
       "1  Control Campaign     2         1757       121040  102513            8110   \n",
       "2  Control Campaign     3         2343       131711  110862            6508   \n",
       "3  Control Campaign     4         1940        72878   61235            3065   \n",
       "5  Control Campaign     6         3083       109076   87998            4028   \n",
       "\n",
       "   Searches  View Content  Add to Cart  Purchase  Conversion Rate  \\\n",
       "0      2290          2159         1819       618             8.81   \n",
       "1      2033          1841         1219       511             6.30   \n",
       "2      1737          1549         1134       372             5.72   \n",
       "3      1042           982         1183       340            11.09   \n",
       "5      1709          1249          784       764            18.97   \n",
       "\n",
       "   Click through rate  Cost per click  Cost per conversion  \n",
       "0                8.48            0.32                 3.69  \n",
       "1                6.70            0.22                 3.44  \n",
       "2                4.94            0.36                 6.30  \n",
       "3                4.21            0.63                 5.71  \n",
       "5                3.69            0.77                 4.04  "
      ]
     },
     "execution_count": 103,
     "metadata": {},
     "output_type": "execute_result"
    }
   ],
   "source": [
    "final_df.head(5)"
   ]
  },
  {
   "cell_type": "markdown",
   "id": "39abf09e",
   "metadata": {},
   "source": [
    "# Tests"
   ]
  },
  {
   "cell_type": "markdown",
   "id": "339d97ef",
   "metadata": {},
   "source": [
    "### 1.\n",
    "Test: Two-sample t-test (Welch’s)\n",
    "\n",
    "Metric: Conversion Rate\n",
    "\n",
    "Goal: See if test campaign converts more users than control"
   ]
  },
  {
   "cell_type": "code",
   "execution_count": 121,
   "id": "4b61ddac",
   "metadata": {},
   "outputs": [],
   "source": [
    "control = final_df.loc[final_df['Campaign Name'] == 'Control Campaign']\n",
    "test = final_df.loc[final_df['Campaign Name'] == 'Test Campaign']"
   ]
  },
  {
   "cell_type": "code",
   "execution_count": 126,
   "id": "0986ece2",
   "metadata": {
    "scrolled": true
   },
   "outputs": [
    {
     "name": "stdout",
     "output_type": "stream",
     "text": [
      "p-value: 0.1060\n"
     ]
    }
   ],
   "source": [
    "stats, p = ttest_ind(test['Conversion Rate'], control['Conversion Rate'], equal_var = False)\n",
    "\n",
    "print(f'p-value: {p:.4f}')"
   ]
  },
  {
   "cell_type": "markdown",
   "id": "f7332250",
   "metadata": {},
   "source": [
    "We conducted an independent two-sample t-test to compare the conversion rates between the Control Campaign and Test Campaign.\n",
    "The resulting p-value of 0.1060 indicates that there is no statistically significant difference at the 5% level.\n",
    "Therefore, we fail to reject the null hypothesis, suggesting that the observed difference in conversion rates could be due to random chance."
   ]
  },
  {
   "cell_type": "markdown",
   "id": "94861d1f",
   "metadata": {},
   "source": [
    "### 2. \n",
    "\n",
    "Test: Two-sample t-test\n",
    "\n",
    "Metric: Click through rate\n",
    "\n",
    "Goal: Is the test campaign generating more interest/clicks?"
   ]
  },
  {
   "cell_type": "code",
   "execution_count": 140,
   "id": "306f9a38",
   "metadata": {},
   "outputs": [
    {
     "name": "stdout",
     "output_type": "stream",
     "text": [
      "p-value: 0.0002\n",
      "Since the p-value is less than 0.05, we reject the null hypothesis.\n",
      "There is a statistically significant difference in mean Click-Through Rate between the Test and Control campaigns.\n"
     ]
    }
   ],
   "source": [
    "t"
   ]
  },
  {
   "cell_type": "markdown",
   "id": "fb4c7e16",
   "metadata": {},
   "source": [
    "### 3. \n",
    "Test: Mann-Whitney U test (non-parametric alternative to t-test)\n",
    "\n",
    "Metric: Cost per conversion\n",
    "\n",
    "Goal: Is the test campaign more cost-efficient?"
   ]
  },
  {
   "cell_type": "code",
   "execution_count": 139,
   "id": "d8c90372",
   "metadata": {},
   "outputs": [
    {
     "name": "stdout",
     "output_type": "stream",
     "text": [
      "Cost per Conversion p-value (Mann-Whitney): 0.2308\n",
      " The difference is not statistically significant (p > 0.05).\n",
      "We fail to reject the null hypothesis: no evidence of a meaningful cost efficiency difference.\n"
     ]
    }
   ],
   "source": [
    "stat, p = mannwhitneyu(test['Cost per conversion'], control['Cost per conversion'], alternative = 'two-sided')\n",
    "print(f'Cost per Conversion p-value (Mann-Whitney): {p:.4f}')\n",
    "\n",
    "# Interpretation\n",
    "alpha = 0.05\n",
    "if p < alpha:\n",
    "    print(\" The difference in Cost per Conversion between the groups is statistically significant.\")\n",
    "    print(\"We reject the null hypothesis: the distributions are different.\")\n",
    "else:\n",
    "    print(\" The difference is not statistically significant (p > 0.05).\")\n",
    "    print(\"We fail to reject the null hypothesis: no evidence of a meaningful cost efficiency difference.\")"
   ]
  }
 ],
 "metadata": {
  "kernelspec": {
   "display_name": "Python 3 (ipykernel)",
   "language": "python",
   "name": "python3"
  },
  "language_info": {
   "codemirror_mode": {
    "name": "ipython",
    "version": 3
   },
   "file_extension": ".py",
   "mimetype": "text/x-python",
   "name": "python",
   "nbconvert_exporter": "python",
   "pygments_lexer": "ipython3",
   "version": "3.9.13"
  }
 },
 "nbformat": 4,
 "nbformat_minor": 5
}
